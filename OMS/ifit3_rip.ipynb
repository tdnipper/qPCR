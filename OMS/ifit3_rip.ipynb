{
 "cells": [
  {
   "cell_type": "markdown",
   "metadata": {},
   "source": [
    "# IFIT3 NP RIP\n",
    "\n",
    "## Overview\n",
    "\n",
    "Test NP binding IFIT3 over IgG background. OMS did the RIP and provided me with RNA. I RT'd equal amounts (by volume) of RNA from IFIT3 or IgG and used in qPCR to detect NP."
   ]
  },
  {
   "cell_type": "markdown",
   "metadata": {},
   "source": [
    "## Analysis"
   ]
  },
  {
   "cell_type": "markdown",
   "metadata": {},
   "source": [
    "Import the data as a dataframe and drop NTC and NA values."
   ]
  },
  {
   "cell_type": "code",
   "execution_count": 56,
   "metadata": {},
   "outputs": [
    {
     "data": {
      "text/plain": [
       "<bound method NDFrame.head of      Sample Name Target Name         CT\n",
       "0          igg_1      WSN_NP  24.462685\n",
       "1          igg_1      WSN_NP  24.020170\n",
       "2          igg_1      WSN_NP  23.990248\n",
       "3          igg_2      WSN_NP  25.191076\n",
       "4          igg_2      WSN_NP  25.299900\n",
       "5          igg_2      WSN_NP  25.353312\n",
       "6          igg_3      WSN_NP  22.486640\n",
       "7          igg_3      WSN_NP  22.505870\n",
       "8          igg_3      WSN_NP  22.676767\n",
       "9        ifit3_1      WSN_NP  21.764706\n",
       "10       ifit3_1      WSN_NP  21.415367\n",
       "11       ifit3_1      WSN_NP  21.952050\n",
       "12       ifit3_2      WSN_NP  21.276844\n",
       "13       ifit3_2      WSN_NP  21.245590\n",
       "14       ifit3_2      WSN_NP  21.157684\n",
       "15       ifit3_3      WSN_NP  20.701029\n",
       "16       ifit3_3      WSN_NP  20.424986\n",
       "17       ifit3_3      WSN_NP  20.328117\n",
       "18    igg_1_noRT      WSN_NP  31.495672\n",
       "19    igg_2_noRT      WSN_NP  30.598267\n",
       "20    igg_3_noRT      WSN_NP  31.554102\n",
       "21  ifit3_1_noRT      WSN_NP  31.286550\n",
       "22  ifit3_2_noRT      WSN_NP  30.493988\n",
       "23  ifit3_3_noRT      WSN_NP  31.746683>"
      ]
     },
     "execution_count": 56,
     "metadata": {},
     "output_type": "execute_result"
    }
   ],
   "source": [
    "import pandas as pd\n",
    "\n",
    "data = pd.read_excel(\"OMS_IFIT3_RIP_replicates.xlsx\", sheet_name=\"Results\", skiprows=46, usecols=[\"Sample Name\", \"Target Name\", \"CT\"], na_values=[\"NTC\", \"Undetermined\"]).dropna()\n",
    "data.head"
   ]
  },
  {
   "cell_type": "markdown",
   "metadata": {},
   "source": [
    "Drop noRT controls so they aren't used in calculations. Also take the mean of each biological replicate (from technical triplicates)."
   ]
  },
  {
   "cell_type": "code",
   "execution_count": 57,
   "metadata": {},
   "outputs": [
    {
     "name": "stderr",
     "output_type": "stream",
     "text": [
      "/tmp/ipykernel_357293/1000450354.py:2: SettingWithCopyWarning: \n",
      "A value is trying to be set on a copy of a slice from a DataFrame.\n",
      "Try using .loc[row_indexer,col_indexer] = value instead\n",
      "\n",
      "See the caveats in the documentation: https://pandas.pydata.org/pandas-docs/stable/user_guide/indexing.html#returning-a-view-versus-a-copy\n",
      "  data[\"mean\"] = data.groupby([\"Sample Name\", \"Target Name\"])[\"CT\"].transform(\"mean\")\n"
     ]
    }
   ],
   "source": [
    "data = data[~data[\"Sample Name\"].str.contains(\"noRT\")].copy\n",
    "data[\"mean\"] = data.groupby([\"Sample Name\", \"Target Name\"])[\"CT\"].transform(\"mean\")"
   ]
  },
  {
   "cell_type": "markdown",
   "metadata": {},
   "source": [
    "Caluclate delta CT and foldchange between igg and IFIT3 using the means of each bio replicate, drop the technical replicate data."
   ]
  },
  {
   "cell_type": "code",
   "execution_count": 52,
   "metadata": {},
   "outputs": [
    {
     "name": "stdout",
     "output_type": "stream",
     "text": [
      "  Sample Name Target Name       mean\n",
      "0       igg_1      WSN_NP  24.157701\n",
      "1       igg_2      WSN_NP  25.281429\n",
      "2       igg_3      WSN_NP  22.556426   Sample Name Target Name       mean\n",
      "0     ifit3_1      WSN_NP  21.710708\n",
      "1     ifit3_2      WSN_NP  21.226706\n",
      "2     ifit3_3      WSN_NP  20.484711\n",
      "  replicate       dct  foldchange\n",
      "0         1 -2.446993    5.452785\n",
      "1         2 -4.054723   16.618558\n",
      "2         3 -2.071715    4.203861\n"
     ]
    }
   ],
   "source": [
    "igg_data = data[data[\"Sample Name\"].str.contains(\"igg\")].drop(\"CT\", axis=1)\n",
    "igg_data = igg_data.drop_duplicates().reset_index(drop=True)\n",
    "ifit3_data = data[data[\"Sample Name\"].str.contains(\"ifit3\")].drop(\"CT\", axis=1)\n",
    "ifit3_data = ifit3_data.drop_duplicates().reset_index(drop=True)\n",
    "print(igg_data, ifit3_data)\n",
    "dct = pd.DataFrame()\n",
    "dct[\"replicate\"] = [\"1\", \"2\", \"3\"]\n",
    "dct[\"dct\"] = ifit3_data[\"mean\"] - igg_data[\"mean\"]\n",
    "dct[\"foldchange\"] = 2 ** -dct[\"dct\"]\n",
    "print(dct)\n",
    "dct.to_excel(\"ifit3_np_foldchange.xlsx\")"
   ]
  },
  {
   "cell_type": "markdown",
   "metadata": {},
   "source": [
    "## Results\n",
    "\n",
    "This shows 4-16 fold more NP binding IFIT3 vs. NP control. Now plot this data keeping each bio rep separate."
   ]
  },
  {
   "cell_type": "code",
   "execution_count": 53,
   "metadata": {},
   "outputs": [
    {
     "data": {
      "image/png": "[encoded data removed]",
      "text/plain": [
       "<Figure size 640x480 with 1 Axes>"
      ]
     },
     "metadata": {},
     "output_type": "display_data"
    }
   ],
   "source": [
    "import seaborn as sns\n",
    "import matplotlib.pyplot as plt\n",
    "\n",
    "fig = sns.barplot(data = dct, x = \"replicate\", y = \"foldchange\")\n",
    "plt.ylabel(\"NP foldchange IFIT3/IgG\")\n",
    "plt.savefig(\"ifit3_np.png\", dpi=300)\n",
    "plt.show()\n"
   ]
  }
 ],
 "metadata": {
  "kernelspec": {
   "display_name": "venv",
   "language": "python",
   "name": "python3"
  },
  "language_info": {
   "codemirror_mode": {
    "name": "ipython",
    "version": 3
   },
   "file_extension": ".py",
   "mimetype": "text/x-python",
   "name": "python",
   "nbconvert_exporter": "python",
   "pygments_lexer": "ipython3",
   "version": "3.12.2"
  }
 },
 "nbformat": 4,
 "nbformat_minor": 2
}
